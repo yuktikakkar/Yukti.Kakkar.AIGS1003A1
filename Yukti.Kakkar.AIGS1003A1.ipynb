{
 "cells": [
  {
   "cell_type": "markdown",
   "id": "aefaf5b1-bf2f-4db1-9392-0c41d066198b",
   "metadata": {},
   "source": [
    "## Q1 - Ans"
   ]
  },
  {
   "cell_type": "code",
   "execution_count": 1,
   "id": "9f541faa-e919-4652-af08-89999c885483",
   "metadata": {},
   "outputs": [],
   "source": [
    "# I have uploaded this on the discussion board. Please check."
   ]
  },
  {
   "cell_type": "markdown",
   "id": "767353b1-330d-4efa-a94d-a34b462ff818",
   "metadata": {},
   "source": [
    "## Q2 - Ans"
   ]
  },
  {
   "cell_type": "markdown",
   "id": "1bf1c558-859c-4248-8d36-b2aa4296c15c",
   "metadata": {},
   "source": [
    "### We are given with four statements and the category to which they belong to respectively."
   ]
  },
  {
   "cell_type": "markdown",
   "id": "25ebf9a3-310b-4fbc-98a4-48845c62ac70",
   "metadata": {},
   "source": [
    "### We can find the probabilities of several sentences and their corresponding categories to predict the category of the new statement using to the Naive Bayes' theorem."
   ]
  },
  {
   "cell_type": "markdown",
   "id": "2712b0c9-b99d-48cd-8a10-1829a0d7f513",
   "metadata": {},
   "source": [
    "### Naive Bayes theorem is expressed as:"
   ]
  },
  {
   "cell_type": "markdown",
   "id": "2e9220d8-f23a-451f-8373-80048b3f4c06",
   "metadata": {},
   "source": [
    "#### P(A|B) = (P(B|A) x P(A)) / P(B)"
   ]
  },
  {
   "cell_type": "markdown",
   "id": "6241c0d4-a522-45ac-97bf-613f7434d3b9",
   "metadata": {},
   "source": [
    "##### "
   ]
  },
  {
   "cell_type": "markdown",
   "id": "761d8c0d-1d69-4376-b84c-9d987b2f2f74",
   "metadata": {},
   "source": [
    "### 1. Finding P(sunny|a cone of ice cream)"
   ]
  },
  {
   "cell_type": "markdown",
   "id": "815971d1-cdfc-466d-9070-f221c6e0a918",
   "metadata": {},
   "source": [
    "#### P(sunny|a cone of ice cream) "
   ]
  },
  {
   "cell_type": "markdown",
   "id": "66ba8284-531d-4897-8c8f-2aee240e2786",
   "metadata": {},
   "source": [
    "#### = (P(a cone of ice cream|sunny) x P(sunny)) / P(a cone of ice cream)"
   ]
  },
  {
   "cell_type": "code",
   "execution_count": 4,
   "id": "37a92767-f56a-4315-b6bd-4e1719a056ee",
   "metadata": {},
   "outputs": [],
   "source": [
    "# P(a cone of ice cream|sunny) = (P(a|sunny) x P(cone|sunny) x P(of|sunny) x P(ice|sunny) x P(cream|sunny)\n",
    "# P(a cone of ice cream) = P(a) + P(cone) + P(of) + P(ice) + P(cream)"
   ]
  },
  {
   "cell_type": "markdown",
   "id": "3fee70b4-0cb8-44c8-b594-aed8558c07aa",
   "metadata": {},
   "source": [
    "#### = ((P(a|sunny) x P(cone|sunny) x P(of|sunny) x P(ice|sunny) x P(cream|sunny)) x P(sunny)) / (P(a) x P(cone) x P(of) x P(ice) x P(cream))"
   ]
  },
  {
   "cell_type": "markdown",
   "id": "a36f105c-340a-4e58-a2fc-b8cdd3978003",
   "metadata": {},
   "source": [
    "##### "
   ]
  },
  {
   "cell_type": "markdown",
   "id": "394a56c8-ac35-49d7-9d7d-c4d32bdf7f05",
   "metadata": {},
   "source": [
    "### 2. Finding P(rainy|a cup of hot coffee)"
   ]
  },
  {
   "cell_type": "markdown",
   "id": "9b383501-e720-4371-bcff-8b6baa81e609",
   "metadata": {},
   "source": [
    "#### P(rainy|a cup of hot coffee)"
   ]
  },
  {
   "cell_type": "markdown",
   "id": "7d176432-8378-44d9-a7ab-34b709692f03",
   "metadata": {},
   "source": [
    "#### = (P(a cup of hot coffee|rainy) x P(rainy)) / P(a cup of hot coffee)"
   ]
  },
  {
   "cell_type": "code",
   "execution_count": 5,
   "id": "8d2f4f76-811b-470f-a670-b3751fe9281c",
   "metadata": {},
   "outputs": [],
   "source": [
    "# P(a cup of hot coffee|rainy) = P(a|rainy) x P(cup|rainy) + P(of|rainy) + P(hot|rainy) + P(coffee|rainy)\n",
    "# P(a cup of hot coffee) = P(a) + P(cup) + P(of) + P(hot) + P(coffee)"
   ]
  },
  {
   "cell_type": "markdown",
   "id": "e8b9f64c-1a4d-45b3-9946-33d8c2e921ba",
   "metadata": {},
   "source": [
    "#### = ((P(a|rainy) x P(cup|rainy) x P(of|rainy) x P(coffee|rainy)) x P(rainy)) / (P(a) x P(cup) x P(of) x P(hot) x P(coffee))"
   ]
  },
  {
   "cell_type": "markdown",
   "id": "95e7aa72-68e3-40a8-8fa7-85b9e8046f2e",
   "metadata": {},
   "source": [
    "#### "
   ]
  },
  {
   "cell_type": "markdown",
   "id": "41ea0b3e-a811-447e-bb7a-19deec940867",
   "metadata": {},
   "source": [
    "## Q3 - Ans"
   ]
  },
  {
   "cell_type": "code",
   "execution_count": 3,
   "id": "ab52cdae-10d2-460e-a8dd-0c78201b5d6a",
   "metadata": {},
   "outputs": [
    {
     "name": "stdout",
     "output_type": "stream",
     "text": [
      "Doing classification\n",
      "--------------------\n",
      "data:\t\tdigits\n",
      "classifier:\t\tnaiveBayes\n",
      "training set size:\t100\n",
      "using automatic tuning for naivebayes\n",
      "trying to read: digitdata/trainingimages\n",
      "testing\n",
      "trying to read: digitdata/traininglabels\n",
      "testing\n",
      "trying to read: digitdata/validationimages\n",
      "testing\n",
      "trying to read: digitdata/validationlabels\n",
      "testing\n",
      "trying to read: digitdata/testimages\n",
      "testing\n",
      "trying to read: digitdata/testlabels\n",
      "testing\n",
      "Extracting features...\n",
      "Training...\n",
      "Validating...\n",
      "('74', 'correct out of 100 (74.0%).')\n",
      "Testing...\n",
      "('65', 'correct out of 100 (65.0%).')\n",
      "===================================\n",
      "Mistake on example 3\n",
      "Predicted 3; truth is 5\n",
      "Image: \n",
      "                            \n",
      "                            \n",
      "                            \n",
      "                            \n",
      "                            \n",
      "          +#########+       \n",
      "         +###########+      \n",
      "         ############+      \n",
      "         ############       \n",
      "         ####+++#####       \n",
      "         +##+     +++       \n",
      "         +###++++           \n",
      "          ########+         \n",
      "          #########+        \n",
      "          ##########+       \n",
      "          +##########       \n",
      "           +++  ++###+      \n",
      "                  +###      \n",
      "      ++           ###      \n",
      "     +###++       +###      \n",
      "      ######++   +###+      \n",
      "      ++#############       \n",
      "       ++###########+       \n",
      "         +#########+        \n",
      "           ++####++         \n",
      "                            \n",
      "                            \n",
      "                            \n"
     ]
    }
   ],
   "source": [
    "%run dataClassifier.py -c naiveBayes --autotune"
   ]
  },
  {
   "cell_type": "markdown",
   "id": "14a70876-a52f-4172-892b-29b5dfc4b170",
   "metadata": {},
   "source": [
    "#### "
   ]
  }
 ],
 "metadata": {
  "kernelspec": {
   "display_name": "Python 3 (ipykernel)",
   "language": "python",
   "name": "python3"
  },
  "language_info": {
   "codemirror_mode": {
    "name": "ipython",
    "version": 3
   },
   "file_extension": ".py",
   "mimetype": "text/x-python",
   "name": "python",
   "nbconvert_exporter": "python",
   "pygments_lexer": "ipython3",
   "version": "3.8.10"
  }
 },
 "nbformat": 4,
 "nbformat_minor": 5
}
